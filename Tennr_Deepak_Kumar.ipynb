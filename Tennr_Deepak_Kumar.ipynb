{
 "cells": [
  {
   "cell_type": "code",
   "execution_count": 90,
   "id": "1d398787-e5db-4c0b-9d26-286a6cf31cc9",
   "metadata": {},
   "outputs": [],
   "source": [
    "import requests\n",
    "import gspread\n",
    "from bs4 import BeautifulSoup\n",
    "from google.auth.transport.requests import Request\n",
    "from oauth2client.service_account import ServiceAccountCredentials\n",
    "from google.oauth2.credentials import Credentials"
   ]
  },
  {
   "cell_type": "code",
   "execution_count": 91,
   "id": "c1a16750-a071-4813-bd58-38ac23a1eb5d",
   "metadata": {},
   "outputs": [],
   "source": [
    "# Constants\n",
    "WIKIPEDIA_URL = \"https://en.wikipedia.org/wiki/List_of_FIFA_World_Cup_finals\"\n",
    "SHEET_API_URL = \"https://sheets.googleapis.com/v4/spreadsheets/{spreadsheet_id}/values/{range}:append\"\n",
    "ACCESS_TOKEN = \"ornate-keel-445806-n0-d0d367a02343\"\n",
    "SPREADSHEET_ID = \"1U-DnI5-vhmcLCi3qS4luILHciTJKRbyRtqE0vtO3KcA\" \n",
    "SHEET_RANGE = \"Sheet1!A1:D1\"\n",
    "\n",
    "# https://docs.google.com/spreadsheets/d/1U-DnI5-vhmcLCi3qS4luILHciTJKRbyRtqE0vtO3KcA/edit?usp=sharing\n",
    "# //*[@id=\"mw-content-text\"]/div[1]/table[4]/thead/tr/th[1]"
   ]
  },
  {
   "cell_type": "code",
   "execution_count": 92,
   "id": "08777baf-f007-48a4-a9cd-3b03bf58faaa",
   "metadata": {},
   "outputs": [],
   "source": [
    "def extract_fifa_data():\n",
    "    response = requests.get(WIKIPEDIA_URL)\n",
    "    if response.status_code != 200:\n",
    "        print(f\"Failed to fetch Wikipedia page: {response.status_code}\")\n",
    "        return []\n",
    "\n",
    "    soup = BeautifulSoup(response.content, \"html.parser\")\n",
    "\n",
    "    tables = soup.find_all(\"table\", {\"class\": \"wikitable\"})\n",
    "    \n",
    "    if len(tables) < 4:\n",
    "        print(\"Specified table not found!\")\n",
    "        return []\n",
    "\n",
    "    table = tables[1]\n",
    "    rows = table.find_all(\"tr\")[1:11]\n",
    "    extracted_data = []\n",
    "    \n",
    "    for i, row in enumerate(rows):\n",
    "        cells = row.find_all([\"th\", \"td\"])\n",
    "        if len(cells) >= 4:\n",
    "            year = cells[0].text.strip()\n",
    "            winner = cells[1].text.strip()\n",
    "            score = cells[2].text.strip()\n",
    "            runners_up = cells[3].text.strip()\n",
    "            extracted_data.append([year, winner, score, runners_up])\n",
    "        else:\n",
    "            print(f\"Skipping row {i+1}: Incomplete data.\")\n",
    "    # print(extracted_data)\n",
    "    return extracted_data\n",
    "# extract_fifa_data()\n"
   ]
  },
  {
   "cell_type": "code",
   "execution_count": 93,
   "id": "1936ef6f-a14d-441e-b0cf-22b7c41272e6",
   "metadata": {},
   "outputs": [],
   "source": [
    "def append_to_google_sheet(fifa_data):\n",
    "    try:\n",
    "        # Authentication\n",
    "        credentials_file = 'C:/Users/hp/Downloads/ornate-keel-445806-n0-d0d367a02343.json'\n",
    "        scope = ['https://www.googleapis.com/auth/spreadsheets']\n",
    "        creds = ServiceAccountCredentials.from_json_keyfile_name(credentials_file, scope)\n",
    "\n",
    "        # Authorization\n",
    "        gc = gspread.authorize(creds)\n",
    "        sheet = gc.open_by_key(SPREADSHEET_ID).sheet1\n",
    "        \n",
    "        sheet.append_rows(fifa_data, value_input_option=\"RAW\")\n",
    "        print(\"Data successfully appended to Google Sheet.\")\n",
    "\n",
    "    except FileNotFoundError:\n",
    "        print(f\"Credentials file not found: {credentials_file}\")\n",
    "    except gspread.exceptions.SpreadsheetNotFound:\n",
    "        print(f\"Spreadsheet not found. Check the SPREADSHEET_ID: {SPREADSHEET_ID}\")\n",
    "    except Exception as e:\n",
    "        print(f\"An error occurred: {e}\")\n"
   ]
  },
  {
   "cell_type": "code",
   "execution_count": 94,
   "id": "6bf19fa8-73e7-4fa4-8d75-d108fecc2cbc",
   "metadata": {},
   "outputs": [
    {
     "name": "stdout",
     "output_type": "stream",
     "text": [
      "Extracted Data: [['1930', 'Uruguay', '4–2', 'Argentina'], ['1934', 'Italy', '2–1 (a.e.t.)', 'Czechoslovakia'], ['1938', 'Italy', '4–2', 'Hungary'], ['1950', 'Uruguay', '2–1[n 3]', 'Brazil'], ['1954', 'West Germany', '3–2', 'Hungary'], ['1958', 'Brazil', '5–2', 'Sweden'], ['1962', 'Brazil', '3–1', 'Czechoslovakia'], ['1966', 'England', '4–2 (a.e.t.)', 'West Germany'], ['1970', 'Brazil', '4–1', 'Italy'], ['1974', 'West Germany', '2–1', 'Netherlands']]\n",
      "Data successfully appended to Google Sheet.\n"
     ]
    }
   ],
   "source": [
    "if __name__ == \"__main__\":\n",
    "    fifa_data = extract_fifa_data()\n",
    "    if not fifa_data:\n",
    "        print(\"No data extracted. Exiting...\")\n",
    "    else:\n",
    "        print(\"Extracted Data:\", fifa_data)\n",
    "        append_to_google_sheet(fifa_data)"
   ]
  },
  {
   "cell_type": "code",
   "execution_count": null,
   "id": "d2036cb0-4e89-4760-888e-a2c40439f8c5",
   "metadata": {},
   "outputs": [],
   "source": []
  }
 ],
 "metadata": {
  "kernelspec": {
   "display_name": "Python 3 (ipykernel)",
   "language": "python",
   "name": "python3"
  },
  "language_info": {
   "codemirror_mode": {
    "name": "ipython",
    "version": 3
   },
   "file_extension": ".py",
   "mimetype": "text/x-python",
   "name": "python",
   "nbconvert_exporter": "python",
   "pygments_lexer": "ipython3",
   "version": "3.12.0"
  }
 },
 "nbformat": 4,
 "nbformat_minor": 5
}
